{
 "cells": [
  {
   "attachments": {},
   "cell_type": "markdown",
   "metadata": {},
   "source": [
    "<B><I><U>PHONEPE TRANSACTIONS<B><I><U>"
   ]
  },
  {
   "attachments": {},
   "cell_type": "markdown",
   "metadata": {},
   "source": [
    "<B><I><U>CLONING FROM GITHUB<B><I><U>"
   ]
  },
  {
   "cell_type": "code",
   "execution_count": 2,
   "metadata": {},
   "outputs": [
    {
     "data": {
      "text/plain": [
       "''"
      ]
     },
     "execution_count": 2,
     "metadata": {},
     "output_type": "execute_result"
    }
   ],
   "source": [
    "import git\n",
    "\n",
    "git.Git(\"E:/Capstone/Project 2\").clone(\"https://github.com/PhonePe/pulse.git\")"
   ]
  },
  {
   "cell_type": "markdown",
   "metadata": {},
   "source": [
    "Using git library we are cloning the dataset from the Github link to our desired location."
   ]
  },
  {
   "attachments": {},
   "cell_type": "markdown",
   "metadata": {},
   "source": [
    "<B><I><U>CREATING DATAFRAME<B><I><U>"
   ]
  },
  {
   "cell_type": "code",
   "execution_count": 3,
   "metadata": {},
   "outputs": [],
   "source": [
    "import os\n",
    "import json"
   ]
  },
  {
   "cell_type": "markdown",
   "metadata": {},
   "source": [
    "These libraries are necessary for the reading the json files in the file locations"
   ]
  },
  {
   "cell_type": "code",
   "execution_count": 4,
   "metadata": {},
   "outputs": [],
   "source": [
    "path = r\"E:/Capstone/Project 2/pulse/data/map/transaction/hover/country/india/state\"\n",
    "\n",
    "clm= {'State':[], 'Year':[],'Quarter':[],'District':[], 'Tcount':[], 'Tamount':[]} \n",
    "\n",
    "for root, dirs, files in os.walk(path):\n",
    "    for file in files:\n",
    "        if file.endswith(\".json\"):\n",
    "            state = root.split(os.path.sep)[-2]\n",
    "            year = root.split(os.path.sep)[-1]\n",
    "            quarter = file.strip(\".json\")\n",
    "\n",
    "            Jpath = os.path.join(root,file)\n",
    "\n",
    "            Dot = open(Jpath,'r')\n",
    "            D = json.load(Dot)\n",
    "            for i in D['data']['hoverDataList']:\n",
    "                Name = i['name']\n",
    "                Count = i['metric'][0][\"count\"]\n",
    "                Amount = i['metric'][0][\"amount\"]\n",
    "                clm['District'].append(Name)\n",
    "                clm['Tcount'].append(Count)\n",
    "                clm['Tamount'].append(Amount)\n",
    "                clm['State'].append(state)\n",
    "                clm['Year'].append(year)\n",
    "                clm['Quarter'].append(quarter)"
   ]
  },
  {
   "cell_type": "markdown",
   "metadata": {},
   "source": [
    "Need to mention the path which contains the json files by assigning them to the variable \"path\".\n",
    "\n",
    "Creating a dictionary \"clm\" which contains the keys based on the values we need.\n",
    "\n",
    "We are creating a \"for\" loop and using the \"os.walk\" function to read the files in the folder and its subfolder. In which the each state folder has the 5 subfolders based on the year and each subfolders contains the 4 json files each. We also need the folder and json file names which needs to be added in the respective keys.\n",
    "\n",
    "While reading the json file using the \"json.load\" function. we are only extracting the district name and its transaction amount and transaction count values.\n",
    "\n",
    "We are appending the values to the respective keys in the dictionary."
   ]
  },
  {
   "cell_type": "code",
   "execution_count": 5,
   "metadata": {},
   "outputs": [],
   "source": [
    "import pandas as pd"
   ]
  },
  {
   "cell_type": "markdown",
   "metadata": {},
   "source": [
    "Need pandas library for creating the dataframe"
   ]
  },
  {
   "cell_type": "code",
   "execution_count": 6,
   "metadata": {},
   "outputs": [],
   "source": [
    "FS =pd.DataFrame(clm)"
   ]
  },
  {
   "cell_type": "markdown",
   "metadata": {},
   "source": [
    "Converting the dictionary to the Dataframe using the \"pd.Dataframe\" function."
   ]
  },
  {
   "cell_type": "code",
   "execution_count": 7,
   "metadata": {},
   "outputs": [
    {
     "data": {
      "text/html": [
       "<div>\n",
       "<style scoped>\n",
       "    .dataframe tbody tr th:only-of-type {\n",
       "        vertical-align: middle;\n",
       "    }\n",
       "\n",
       "    .dataframe tbody tr th {\n",
       "        vertical-align: top;\n",
       "    }\n",
       "\n",
       "    .dataframe thead th {\n",
       "        text-align: right;\n",
       "    }\n",
       "</style>\n",
       "<table border=\"1\" class=\"dataframe\">\n",
       "  <thead>\n",
       "    <tr style=\"text-align: right;\">\n",
       "      <th></th>\n",
       "      <th>State</th>\n",
       "      <th>Year</th>\n",
       "      <th>Quarter</th>\n",
       "      <th>District</th>\n",
       "      <th>Tcount</th>\n",
       "      <th>Tamount</th>\n",
       "    </tr>\n",
       "  </thead>\n",
       "  <tbody>\n",
       "    <tr>\n",
       "      <th>0</th>\n",
       "      <td>andaman-&amp;-nicobar-islands</td>\n",
       "      <td>2018</td>\n",
       "      <td>1</td>\n",
       "      <td>north and middle andaman district</td>\n",
       "      <td>442</td>\n",
       "      <td>9.316631e+05</td>\n",
       "    </tr>\n",
       "    <tr>\n",
       "      <th>1</th>\n",
       "      <td>andaman-&amp;-nicobar-islands</td>\n",
       "      <td>2018</td>\n",
       "      <td>1</td>\n",
       "      <td>south andaman district</td>\n",
       "      <td>5688</td>\n",
       "      <td>1.256025e+07</td>\n",
       "    </tr>\n",
       "    <tr>\n",
       "      <th>2</th>\n",
       "      <td>andaman-&amp;-nicobar-islands</td>\n",
       "      <td>2018</td>\n",
       "      <td>1</td>\n",
       "      <td>nicobars district</td>\n",
       "      <td>528</td>\n",
       "      <td>1.139849e+06</td>\n",
       "    </tr>\n",
       "    <tr>\n",
       "      <th>3</th>\n",
       "      <td>andaman-&amp;-nicobar-islands</td>\n",
       "      <td>2018</td>\n",
       "      <td>2</td>\n",
       "      <td>north and middle andaman district</td>\n",
       "      <td>825</td>\n",
       "      <td>1.317863e+06</td>\n",
       "    </tr>\n",
       "    <tr>\n",
       "      <th>4</th>\n",
       "      <td>andaman-&amp;-nicobar-islands</td>\n",
       "      <td>2018</td>\n",
       "      <td>2</td>\n",
       "      <td>south andaman district</td>\n",
       "      <td>9395</td>\n",
       "      <td>2.394824e+07</td>\n",
       "    </tr>\n",
       "    <tr>\n",
       "      <th>...</th>\n",
       "      <td>...</td>\n",
       "      <td>...</td>\n",
       "      <td>...</td>\n",
       "      <td>...</td>\n",
       "      <td>...</td>\n",
       "      <td>...</td>\n",
       "    </tr>\n",
       "    <tr>\n",
       "      <th>16095</th>\n",
       "      <td>west-bengal</td>\n",
       "      <td>2023</td>\n",
       "      <td>2</td>\n",
       "      <td>nadia district</td>\n",
       "      <td>26194658</td>\n",
       "      <td>5.410386e+10</td>\n",
       "    </tr>\n",
       "    <tr>\n",
       "      <th>16096</th>\n",
       "      <td>west-bengal</td>\n",
       "      <td>2023</td>\n",
       "      <td>2</td>\n",
       "      <td>birbhum district</td>\n",
       "      <td>14912523</td>\n",
       "      <td>2.941312e+10</td>\n",
       "    </tr>\n",
       "    <tr>\n",
       "      <th>16097</th>\n",
       "      <td>west-bengal</td>\n",
       "      <td>2023</td>\n",
       "      <td>2</td>\n",
       "      <td>purba medinipur district</td>\n",
       "      <td>30724502</td>\n",
       "      <td>6.595899e+10</td>\n",
       "    </tr>\n",
       "    <tr>\n",
       "      <th>16098</th>\n",
       "      <td>west-bengal</td>\n",
       "      <td>2023</td>\n",
       "      <td>2</td>\n",
       "      <td>maldah district</td>\n",
       "      <td>24677357</td>\n",
       "      <td>5.218621e+10</td>\n",
       "    </tr>\n",
       "    <tr>\n",
       "      <th>16099</th>\n",
       "      <td>west-bengal</td>\n",
       "      <td>2023</td>\n",
       "      <td>2</td>\n",
       "      <td>darjiling district</td>\n",
       "      <td>13049366</td>\n",
       "      <td>2.372866e+10</td>\n",
       "    </tr>\n",
       "  </tbody>\n",
       "</table>\n",
       "<p>16100 rows × 6 columns</p>\n",
       "</div>"
      ],
      "text/plain": [
       "                           State  Year Quarter  \\\n",
       "0      andaman-&-nicobar-islands  2018       1   \n",
       "1      andaman-&-nicobar-islands  2018       1   \n",
       "2      andaman-&-nicobar-islands  2018       1   \n",
       "3      andaman-&-nicobar-islands  2018       2   \n",
       "4      andaman-&-nicobar-islands  2018       2   \n",
       "...                          ...   ...     ...   \n",
       "16095                west-bengal  2023       2   \n",
       "16096                west-bengal  2023       2   \n",
       "16097                west-bengal  2023       2   \n",
       "16098                west-bengal  2023       2   \n",
       "16099                west-bengal  2023       2   \n",
       "\n",
       "                                District    Tcount       Tamount  \n",
       "0      north and middle andaman district       442  9.316631e+05  \n",
       "1                 south andaman district      5688  1.256025e+07  \n",
       "2                      nicobars district       528  1.139849e+06  \n",
       "3      north and middle andaman district       825  1.317863e+06  \n",
       "4                 south andaman district      9395  2.394824e+07  \n",
       "...                                  ...       ...           ...  \n",
       "16095                     nadia district  26194658  5.410386e+10  \n",
       "16096                   birbhum district  14912523  2.941312e+10  \n",
       "16097           purba medinipur district  30724502  6.595899e+10  \n",
       "16098                    maldah district  24677357  5.218621e+10  \n",
       "16099                 darjiling district  13049366  2.372866e+10  \n",
       "\n",
       "[16100 rows x 6 columns]"
      ]
     },
     "execution_count": 7,
     "metadata": {},
     "output_type": "execute_result"
    }
   ],
   "source": [
    "FS"
   ]
  },
  {
   "attachments": {},
   "cell_type": "markdown",
   "metadata": {},
   "source": [
    "<B><I><U>PROCESSING & CLEANING THE DATAFRAME<B><I><U>"
   ]
  },
  {
   "cell_type": "code",
   "execution_count": 8,
   "metadata": {},
   "outputs": [],
   "source": [
    "FS['Quarter'] = FS['Quarter'].str.replace(\"1\",\"Quarter 1\")\n",
    "FS['Quarter'] = FS['Quarter'].str.replace(\"2\",\"Quarter 2\")\n",
    "FS['Quarter'] = FS['Quarter'].str.replace(\"3\",\"Quarter 3\")\n",
    "FS['Quarter'] = FS['Quarter'].str.replace(\"4\",\"Quarter 4\")"
   ]
  },
  {
   "cell_type": "markdown",
   "metadata": {},
   "source": [
    "Providing the names to the Quarter instead of the values"
   ]
  },
  {
   "cell_type": "code",
   "execution_count": 9,
   "metadata": {},
   "outputs": [],
   "source": [
    "FS['District'] = FS['District'].str.title()\n",
    "FS['District'] = FS['District'].str.replace(\"District\",\"\")\n",
    "FS['State'] = FS['State'].str.replace(\"-\",\" \")\n",
    "FS['State'] = FS['State'].str.title()\n",
    "FS['District']=FS['District'].str.rstrip()"
   ]
  },
  {
   "cell_type": "markdown",
   "metadata": {},
   "source": [
    "Removing the \"District\" word and changing the small to proper format.\n",
    "\n",
    "Replacing the space instead of the \"-\" symbol in the State column. And changing them to the Proper format.\n",
    "\n",
    "Removing the any space at the end the word using \"rstrip\" function."
   ]
  },
  {
   "cell_type": "code",
   "execution_count": 10,
   "metadata": {},
   "outputs": [],
   "source": [
    "FS['District'] = FS['District'].str.replace(\"Aravallis\",\"Aravalli\")\n",
    "FS['District'] = FS['District'].str.replace(\"Bengaluru Urban\",\"Bengaluru\")\n",
    "FS['District'] = FS['District'].str.replace(\"Chhotaudepur\",\"Chhota Udaipur\")\n",
    "FS['District'] = FS['District'].str.replace(\"Darjiling\",\"Darjeeling\")\n",
    "FS['District'] = FS['District'].str.replace(\"Deogarh\",\"Deoghar\")\n",
    "FS['District'] = FS['District'].str.replace(\"Firozepur\",\"Firozpur\")\n",
    "FS['District'] = FS['District'].str.replace(\"Gariyaband\",\"Gariaband\")\n",
    "FS['District'] = FS['District'].str.replace(\"Jaya Shankar Bhalupally\",\"Jayashankar Bhupalpally\")\n",
    "FS['District'] = FS['District'].str.replace(\"Koch Bihar\",\"Cooch Behar\")\n",
    "FS['District'] = FS['District'].str.replace(\"Leh Ladakh\",\"Leh\")\n",
    "FS['District'] = FS['District'].str.replace(\"Marigaon\",\"Morigaon\")\n",
    "FS['District'] = FS['District'].str.replace(\"Mewat\",\"Nuh\")\n",
    "FS['District'] = FS['District'].str.replace(\"Pashchim Champaran\",\"West Champaran\")\n",
    "FS['District'] = FS['District'].str.replace(\"Peddapalle\",\"Peddapalli\")\n",
    "FS['District'] = FS['District'].str.replace(\"Purbi Champaran\",\"East Champaran\")\n",
    "FS['District'] = FS['District'].str.replace(\"Rangareddy\",\"Ranga Reddy\")\n",
    "FS['District'] = FS['District'].str.replace(\"Sahebganj\",\"Sahibganj\")\n",
    "FS['District'] = FS['District'].str.replace(\"Sant Kabeer Nagar\",\"Sant Kabir Nagar\")\n",
    "FS['District'] = FS['District'].str.replace(\"Saraikela Kharsawan\",\"Seraikela Kharsawan\")\n",
    "FS['District'] = FS['District'].str.replace(\"Sonepur\",\"Subarnapur\")\n",
    "FS['District'] = FS['District'].str.replace(\"Ysr\",\"YSR Kadapa\")\n",
    "FS['District'] = FS['District'].str.replace(\"Sas Nagar\",\"S.A.S. Nagar\")\n",
    "FS['District'] = FS['District'].str.replace(\"Kallakkurichi\",\"Kallakurichi\")\n"
   ]
  },
  {
   "cell_type": "markdown",
   "metadata": {},
   "source": [
    "Replacing the District names based on the Geojson file to make the mapping feasible."
   ]
  },
  {
   "cell_type": "code",
   "execution_count": 11,
   "metadata": {},
   "outputs": [],
   "source": [
    "#For Sikkim\n",
    "rows = range(10776,10856)\n",
    "FS.loc[rows,\"District\"] = FS.loc[rows,\"District\"].str.replace(\"South\",\"South District\")\n",
    "FS.loc[rows,\"District\"] = FS.loc[rows,\"District\"].str.replace(\"North\",\"North District\")\n",
    "FS.loc[rows,\"District\"] = FS.loc[rows,\"District\"].str.replace(\"East\",\"East District\")\n",
    "FS.loc[rows,\"District\"] = FS.loc[rows,\"District\"].str.replace(\"West\",\"West District\")"
   ]
  },
  {
   "cell_type": "markdown",
   "metadata": {},
   "source": [
    "For Sikkim and Delhi, These States have similar district names, So to avoid the confusion we are updating the district names for the Sikkim district alone based the range of the rows."
   ]
  },
  {
   "cell_type": "code",
   "execution_count": 12,
   "metadata": {},
   "outputs": [
    {
     "data": {
      "text/html": [
       "<div>\n",
       "<style scoped>\n",
       "    .dataframe tbody tr th:only-of-type {\n",
       "        vertical-align: middle;\n",
       "    }\n",
       "\n",
       "    .dataframe tbody tr th {\n",
       "        vertical-align: top;\n",
       "    }\n",
       "\n",
       "    .dataframe thead th {\n",
       "        text-align: right;\n",
       "    }\n",
       "</style>\n",
       "<table border=\"1\" class=\"dataframe\">\n",
       "  <thead>\n",
       "    <tr style=\"text-align: right;\">\n",
       "      <th></th>\n",
       "      <th>State</th>\n",
       "      <th>Year</th>\n",
       "      <th>Quarter</th>\n",
       "      <th>District</th>\n",
       "      <th>Tcount</th>\n",
       "      <th>Tamount</th>\n",
       "    </tr>\n",
       "  </thead>\n",
       "  <tbody>\n",
       "    <tr>\n",
       "      <th>0</th>\n",
       "      <td>Andaman &amp; Nicobar Islands</td>\n",
       "      <td>2018</td>\n",
       "      <td>Quarter 1</td>\n",
       "      <td>North And Middle Andaman</td>\n",
       "      <td>442</td>\n",
       "      <td>9.316631e+05</td>\n",
       "    </tr>\n",
       "    <tr>\n",
       "      <th>1</th>\n",
       "      <td>Andaman &amp; Nicobar Islands</td>\n",
       "      <td>2018</td>\n",
       "      <td>Quarter 1</td>\n",
       "      <td>South Andaman</td>\n",
       "      <td>5688</td>\n",
       "      <td>1.256025e+07</td>\n",
       "    </tr>\n",
       "    <tr>\n",
       "      <th>2</th>\n",
       "      <td>Andaman &amp; Nicobar Islands</td>\n",
       "      <td>2018</td>\n",
       "      <td>Quarter 1</td>\n",
       "      <td>Nicobars</td>\n",
       "      <td>528</td>\n",
       "      <td>1.139849e+06</td>\n",
       "    </tr>\n",
       "    <tr>\n",
       "      <th>3</th>\n",
       "      <td>Andaman &amp; Nicobar Islands</td>\n",
       "      <td>2018</td>\n",
       "      <td>Quarter 2</td>\n",
       "      <td>North And Middle Andaman</td>\n",
       "      <td>825</td>\n",
       "      <td>1.317863e+06</td>\n",
       "    </tr>\n",
       "    <tr>\n",
       "      <th>4</th>\n",
       "      <td>Andaman &amp; Nicobar Islands</td>\n",
       "      <td>2018</td>\n",
       "      <td>Quarter 2</td>\n",
       "      <td>South Andaman</td>\n",
       "      <td>9395</td>\n",
       "      <td>2.394824e+07</td>\n",
       "    </tr>\n",
       "    <tr>\n",
       "      <th>...</th>\n",
       "      <td>...</td>\n",
       "      <td>...</td>\n",
       "      <td>...</td>\n",
       "      <td>...</td>\n",
       "      <td>...</td>\n",
       "      <td>...</td>\n",
       "    </tr>\n",
       "    <tr>\n",
       "      <th>16095</th>\n",
       "      <td>West Bengal</td>\n",
       "      <td>2023</td>\n",
       "      <td>Quarter 2</td>\n",
       "      <td>Nadia</td>\n",
       "      <td>26194658</td>\n",
       "      <td>5.410386e+10</td>\n",
       "    </tr>\n",
       "    <tr>\n",
       "      <th>16096</th>\n",
       "      <td>West Bengal</td>\n",
       "      <td>2023</td>\n",
       "      <td>Quarter 2</td>\n",
       "      <td>Birbhum</td>\n",
       "      <td>14912523</td>\n",
       "      <td>2.941312e+10</td>\n",
       "    </tr>\n",
       "    <tr>\n",
       "      <th>16097</th>\n",
       "      <td>West Bengal</td>\n",
       "      <td>2023</td>\n",
       "      <td>Quarter 2</td>\n",
       "      <td>Purba Medinipur</td>\n",
       "      <td>30724502</td>\n",
       "      <td>6.595899e+10</td>\n",
       "    </tr>\n",
       "    <tr>\n",
       "      <th>16098</th>\n",
       "      <td>West Bengal</td>\n",
       "      <td>2023</td>\n",
       "      <td>Quarter 2</td>\n",
       "      <td>Maldah</td>\n",
       "      <td>24677357</td>\n",
       "      <td>5.218621e+10</td>\n",
       "    </tr>\n",
       "    <tr>\n",
       "      <th>16099</th>\n",
       "      <td>West Bengal</td>\n",
       "      <td>2023</td>\n",
       "      <td>Quarter 2</td>\n",
       "      <td>Darjeeling</td>\n",
       "      <td>13049366</td>\n",
       "      <td>2.372866e+10</td>\n",
       "    </tr>\n",
       "  </tbody>\n",
       "</table>\n",
       "<p>16100 rows × 6 columns</p>\n",
       "</div>"
      ],
      "text/plain": [
       "                           State  Year    Quarter                  District  \\\n",
       "0      Andaman & Nicobar Islands  2018  Quarter 1  North And Middle Andaman   \n",
       "1      Andaman & Nicobar Islands  2018  Quarter 1             South Andaman   \n",
       "2      Andaman & Nicobar Islands  2018  Quarter 1                  Nicobars   \n",
       "3      Andaman & Nicobar Islands  2018  Quarter 2  North And Middle Andaman   \n",
       "4      Andaman & Nicobar Islands  2018  Quarter 2             South Andaman   \n",
       "...                          ...   ...        ...                       ...   \n",
       "16095                West Bengal  2023  Quarter 2                     Nadia   \n",
       "16096                West Bengal  2023  Quarter 2                   Birbhum   \n",
       "16097                West Bengal  2023  Quarter 2           Purba Medinipur   \n",
       "16098                West Bengal  2023  Quarter 2                    Maldah   \n",
       "16099                West Bengal  2023  Quarter 2                Darjeeling   \n",
       "\n",
       "         Tcount       Tamount  \n",
       "0           442  9.316631e+05  \n",
       "1          5688  1.256025e+07  \n",
       "2           528  1.139849e+06  \n",
       "3           825  1.317863e+06  \n",
       "4          9395  2.394824e+07  \n",
       "...         ...           ...  \n",
       "16095  26194658  5.410386e+10  \n",
       "16096  14912523  2.941312e+10  \n",
       "16097  30724502  6.595899e+10  \n",
       "16098  24677357  5.218621e+10  \n",
       "16099  13049366  2.372866e+10  \n",
       "\n",
       "[16100 rows x 6 columns]"
      ]
     },
     "execution_count": 12,
     "metadata": {},
     "output_type": "execute_result"
    }
   ],
   "source": [
    "FS"
   ]
  },
  {
   "cell_type": "markdown",
   "metadata": {},
   "source": [
    "This is updated Dataframe after the cleaning process is done. The dataframe is ready to be inserted in the SQL."
   ]
  },
  {
   "attachments": {},
   "cell_type": "markdown",
   "metadata": {},
   "source": [
    "<B><I><U>CREATING THE DATABASE IN SQL<B><I><U>"
   ]
  },
  {
   "cell_type": "code",
   "execution_count": 13,
   "metadata": {},
   "outputs": [],
   "source": [
    "import mysql.connector\n",
    "from mysql.connector import Error"
   ]
  },
  {
   "cell_type": "markdown",
   "metadata": {},
   "source": [
    "These are necessary library needed for connecting the SQL Server through the Jupyter Notebook."
   ]
  },
  {
   "cell_type": "code",
   "execution_count": 14,
   "metadata": {},
   "outputs": [],
   "source": [
    "mydb = mysql.connector.connect(\n",
    "    host=\"localhost\",\n",
    "    user=\"root\",\n",
    "  password=\"*****\"\n",
    ")"
   ]
  },
  {
   "cell_type": "markdown",
   "metadata": {},
   "source": [
    "Connecting the SQL Server using the \"connect\" function by providing the user and password."
   ]
  },
  {
   "cell_type": "code",
   "execution_count": 15,
   "metadata": {},
   "outputs": [],
   "source": [
    "mycursor = mydb.cursor()"
   ]
  },
  {
   "cell_type": "markdown",
   "metadata": {},
   "source": [
    "Assigning the Database connect through the variable."
   ]
  },
  {
   "cell_type": "code",
   "execution_count": 16,
   "metadata": {},
   "outputs": [],
   "source": [
    "mycursor.execute(\"CREATE DATABASE Capstone\")"
   ]
  },
  {
   "cell_type": "markdown",
   "metadata": {},
   "source": [
    "Craating the Database named \"Capstone\""
   ]
  },
  {
   "attachments": {},
   "cell_type": "markdown",
   "metadata": {},
   "source": [
    "<B><I><U>CONNECTING TO THE DATABASE IN SQL<B><I><U>"
   ]
  },
  {
   "cell_type": "code",
   "execution_count": 17,
   "metadata": {},
   "outputs": [],
   "source": [
    "mydb = mysql.connector.connect(\n",
    "    host=\"localhost\",\n",
    "    user=\"root\",\n",
    "  password=\"******\",\n",
    "  database = \"Capstone\"\n",
    ")"
   ]
  },
  {
   "cell_type": "markdown",
   "metadata": {},
   "source": [
    "Connecting the Database using user and password"
   ]
  },
  {
   "cell_type": "code",
   "execution_count": 18,
   "metadata": {},
   "outputs": [
    {
     "name": "stdout",
     "output_type": "stream",
     "text": [
      "Connected\n"
     ]
    }
   ],
   "source": [
    "if mydb:\n",
    "    print(\"Connected\")\n",
    "else:\n",
    "    print(\"Connection Error\")"
   ]
  },
  {
   "cell_type": "markdown",
   "metadata": {},
   "source": [
    "Checking the connection."
   ]
  },
  {
   "cell_type": "code",
   "execution_count": 20,
   "metadata": {},
   "outputs": [],
   "source": [
    "mycursor = mydb.cursor()"
   ]
  },
  {
   "attachments": {},
   "cell_type": "markdown",
   "metadata": {},
   "source": [
    "<B><I><U>CREATING TABLE IN THE DATABASE IN SQL<B><I><U>"
   ]
  },
  {
   "cell_type": "code",
   "execution_count": 21,
   "metadata": {},
   "outputs": [],
   "source": [
    "mycursor.execute(\"CREATE TABLE Phonepetransactions(State varchar(255),Year varchar(255),Quarter varchar(255),District varchar(255),Transaction_Count int,Transaction_Amount varchar(255))\")"
   ]
  },
  {
   "cell_type": "markdown",
   "metadata": {},
   "source": [
    "Creating the table along the headers of the column."
   ]
  },
  {
   "attachments": {},
   "cell_type": "markdown",
   "metadata": {},
   "source": [
    "<B><I><U>INSERTING THE VALUES OF THE TABLE IN THE DATABASE IN SQL<B><I><U>"
   ]
  },
  {
   "cell_type": "code",
   "execution_count": 22,
   "metadata": {},
   "outputs": [],
   "source": [
    "for i,row in FS.iterrows():\n",
    "            #here %S means string values \n",
    "        sql = \"INSERT INTO Capstone.Phonepetransactions VALUES (%s,%s,%s,%s,%s,%s)\"\n",
    "        mycursor.execute(sql, tuple(row))\n",
    "\n",
    "mydb.commit()"
   ]
  },
  {
   "cell_type": "markdown",
   "metadata": {},
   "source": [
    "Inserting the values of the Dataframes using the for loop and Sql query"
   ]
  },
  {
   "cell_type": "code",
   "execution_count": 23,
   "metadata": {},
   "outputs": [],
   "source": [
    "mydb.close()"
   ]
  },
  {
   "cell_type": "markdown",
   "metadata": {},
   "source": [
    "Closing the Database"
   ]
  },
  {
   "attachments": {},
   "cell_type": "markdown",
   "metadata": {},
   "source": [
    "<B><I><U>CREATING DASHBOARD<B><I><U>"
   ]
  },
  {
   "cell_type": "markdown",
   "metadata": {},
   "source": [
    "For Creating the Dashboard, Creating the separate Capstone_2 python file using the Jupyter notebook"
   ]
  },
  {
   "cell_type": "code",
   "execution_count": 26,
   "metadata": {},
   "outputs": [
    {
     "name": "stdout",
     "output_type": "stream",
     "text": [
      "Overwriting Capstone_2.py\n"
     ]
    }
   ],
   "source": [
    "%%writefile Capstone_2.py\n",
    "\n",
    "#Importing the necessary libraries\n",
    "\n",
    "import streamlit as st\n",
    "import plotly.express as px\n",
    "import mysql.connector\n",
    "import pandas as pd  \n",
    "import json\n",
    "import locale  \n",
    "\n",
    "#Data Retrival from the SQL database using the user and password.\n",
    "\n",
    "mydb = mysql.connector.connect(\n",
    "    host=\"localhost\",\n",
    "    user=\"root\",\n",
    "  password=\"*****\",\n",
    "  database = \"Capstone\"\n",
    ")\n",
    "\n",
    "df = pd.read_sql_query(\"SELECT * FROM Capstone.Phonepetransactions\",mydb)\n",
    "\n",
    "#Conversion of the type of the column from str to float.\n",
    "\n",
    "df = df.astype({'Transaction_Amount':'float'})\n",
    "\n",
    "#Dashboard Creation\n",
    "\n",
    "st.set_page_config(page_title=\"Phonepe_Transactions\", page_icon=\":bar_chart:\",layout=\"wide\")\n",
    "\n",
    "#Sidebar\n",
    "#Creating the filter based on the Year, Quarter and State\n",
    "\n",
    "st.sidebar.header(\"Please Filter here\")\n",
    "Year = st.sidebar.multiselect(\"Select Year:\",options=df[\"Year\"].unique(),default = df[\"Year\"].unique())\n",
    "Quarter = st.sidebar.multiselect(\"Select Quarter:\",options=df[\"Quarter\"].unique(),default = df[\"Quarter\"].unique())\n",
    "State = st.sidebar.multiselect(\"Select State:\",options=df[\"State\"].unique(),default = df[\"State\"].unique())\n",
    "FS = df.query(\"Year == @Year & Quarter == @Quarter & State == @State\")\n",
    "\n",
    "#Header Section\n",
    "#Providing the Total for the transaction Amount and Numbers in the Indian Numerical System using locale library\n",
    "\n",
    "st.title(\":bar_chart: Phonepe Pulse - Transactions\")\n",
    "st.markdown(\"##\")\n",
    "total_values = int(FS[\"Transaction_Amount\"].sum())\n",
    "total_count = int(FS[\"Transaction_Count\"].sum())\n",
    "\n",
    "locale.setlocale(locale.LC_ALL, 'en_IN')\n",
    "formatted_total_values =  locale.currency(total_values, grouping=True)\n",
    "formatted_total_numbers =  locale.currency(total_count, grouping=True)\n",
    "\n",
    "left_column,right_column = st.columns(2)\n",
    "\n",
    "with left_column:\n",
    "  st.subheader(\"Total Transactions Values :\")\n",
    "  st.subheader(formatted_total_values.split(\".\")[0])\n",
    "\n",
    "with right_column:\n",
    "  st.subheader(\"Total Transactions Numbers :\")\n",
    "  st.subheader(formatted_total_numbers.split(\".\")[0][1:])\n",
    "  \n",
    "st.markdown(\"---\")\n",
    "\n",
    "#st.dataframe(FS)\n",
    "\n",
    "# Graphs\n",
    "# Pie Graph\n",
    "# Providing the Transaction Values and Numbers based on the Quarter and Year using the Pie Graph with help of the Plotly Library\n",
    "\n",
    "Amount_by_Quarter =  FS.groupby(by=['Quarter']).sum()[['Transaction_Amount']]\n",
    "Count_by_Quarter =  FS.groupby(by=['Quarter']).sum()[['Transaction_Count']]\n",
    "Amount_by_Year =  FS.groupby(by=['Year']).sum()[['Transaction_Amount']]\n",
    "Count_by_Year =  FS.groupby(by=['Year']).sum()[['Transaction_Count']]\n",
    "\n",
    "\n",
    "Pie_Quarter1 = px.pie(Amount_by_Quarter, values='Transaction_Amount', names=Amount_by_Quarter.index, title=\"<b> Transaction Values by Quarter </b>\")\n",
    "Pie1 = Pie_Quarter1.update_traces(textposition='inside', textinfo='percent+label')\n",
    "\n",
    "Pie_Quarter2 = px.pie(Count_by_Quarter, values='Transaction_Count', names=Count_by_Quarter.index, title=\"<b> Transaction Numbers by Quarter </b>\")\n",
    "Pie2 = Pie_Quarter2.update_traces(textposition='inside', textinfo='percent+label')\n",
    "\n",
    "Pie_Year1 = px.pie(Amount_by_Year, values='Transaction_Amount', names=Amount_by_Year.index, title=\"<b> Transaction Values by Year </b>\")\n",
    "Pie3 = Pie_Year1.update_traces(textposition='inside', textinfo='percent+label')\n",
    "\n",
    "Pie_Year2 = px.pie(Count_by_Year, values='Transaction_Count', names=Count_by_Year.index, title=\"<b> Transaction Numbers by Year </b>\")\n",
    "Pie4 = Pie_Year2.update_traces(textposition='inside', textinfo='percent+label')\n",
    "\n",
    "# Bar Graph\n",
    "# Providing the Transaction Values and Numbers of the State based on the Quarter and Year using the Bar Graph with help of the Plotly Library\n",
    "\n",
    "Amount_of_State1 =  FS.groupby(by=['State','Quarter']).sum()[['Transaction_Amount']].reset_index()\n",
    "Amount_of_State2 =  FS.groupby(by=['State','Year']).sum()[['Transaction_Amount']].reset_index()\n",
    "Amount_of_State_by_Quarter = Amount_of_State1.set_index([\"State\"])\n",
    "Amount_of_State_by_Year = Amount_of_State2.set_index([\"State\"])\n",
    "\n",
    "Bar_Quarter1 = px.bar(\n",
    " Amount_of_State_by_Quarter,\n",
    " x = Amount_of_State_by_Quarter.index,\n",
    " y = \"Transaction_Amount\",\n",
    " color = \"Quarter\",\n",
    " orientation = \"v\",\n",
    " title = \"<b> Transaction Values of State by Quarter </b>\"\n",
    ")\n",
    "\n",
    "Bar_Year1 = px.bar(\n",
    " Amount_of_State_by_Year,\n",
    " x = Amount_of_State_by_Year.index,\n",
    " y = \"Transaction_Amount\",\n",
    " color = \"Year\",\n",
    " orientation = \"v\",\n",
    " title = \"<b> Transaction Values of State by Year </b>\"\n",
    ")\n",
    "\n",
    "Count_of_State1 =  FS.groupby(by=['State','Quarter']).sum()[['Transaction_Count']].reset_index()\n",
    "Count_of_State2 =  FS.groupby(by=['State','Year']).sum()[['Transaction_Count']].reset_index()\n",
    "Count_of_State_by_Quarter = Count_of_State1.set_index([\"State\"])\n",
    "Count_of_State_by_Year = Count_of_State2.set_index([\"State\"])\n",
    "\n",
    "Bar_Quarter2 = px.bar(\n",
    " Count_of_State_by_Quarter,\n",
    " y = Count_of_State_by_Quarter.index,\n",
    " x = \"Transaction_Count\",\n",
    " color = \"Quarter\",\n",
    " orientation = \"h\",\n",
    " title = \"<b> Transaction Numbers of State by Quarter </b>\",\n",
    ")\n",
    "\n",
    "Bar_Year2 = px.bar(\n",
    " Count_of_State_by_Year,\n",
    " y = Count_of_State_by_Year.index,\n",
    " x = \"Transaction_Count\",\n",
    " color = \"Year\",\n",
    " orientation = \"h\",\n",
    " title = \"<b> Transaction Numbers of State by Year </b>\",\n",
    ")\n",
    "\n",
    "# Line Graph\n",
    "# Providing the Transaction Values and Numbers of the District based on the Quarter and Year using the Line Graph with help of the Plotly Library\n",
    "\n",
    "Amount_of_District1 =  FS.groupby(by=['District','Quarter']).sum()[['Transaction_Amount']].reset_index()\n",
    "Amount_of_District2 =  FS.groupby(by=['District','Year']).sum()[['Transaction_Amount']].reset_index()\n",
    "\n",
    "Line_Quarter1 = px.line(Amount_of_District1, x=\"District\", y=\"Transaction_Amount\", color=\"Quarter\", title=\"<b> Transaction Values of District by Quarter </b>\")\n",
    "Line_Year1 = px.line(Amount_of_District2, x=\"District\", y=\"Transaction_Amount\", color=\"Year\", title=\"<b> Transaction Values of District by Year </b>\")\n",
    "\n",
    "Count_of_District1 =  FS.groupby(by=['District','Quarter']).sum()[['Transaction_Count']].reset_index()\n",
    "Count_of_District2 =  FS.groupby(by=['District','Year']).sum()[['Transaction_Count']].reset_index()\n",
    "\n",
    "Line_Quarter2 = px.line(Count_of_District1, x=\"District\", y=\"Transaction_Count\", color=\"Quarter\", title=\"<b> Transaction Numbers of District by Quarter </b>\")\n",
    "Line_Year2 = px.line(Count_of_District2, x=\"District\", y=\"Transaction_Count\", color=\"Year\", title=\"<b> Transaction Numbers of District by Year </b>\")\n",
    "\n",
    "#Map Graph\n",
    "# Providing the Transaction Values and Numbers of the State based on the Quarter and Year using the Map Graph with help of the Plotly Library\n",
    "# The Map Graph is made with the help of the GeoJSON file\n",
    "\n",
    "Mapfig1 = px.choropleth(\n",
    "    Amount_of_State1,\n",
    "    geojson= \"https://gist.githubusercontent.com/jbrobst/56c13bbbf9d97d187fea01ca62ea5112/raw/e388c4cae20aa53cb5090210a42ebb9b765c0a36/india_states.geojson\",\n",
    "    featureidkey='properties.ST_NM',\n",
    "    locations='State',\n",
    "    color='Transaction_Amount',\n",
    "    title= \"<b>Geographical Representation of Transaction Values of Indian States by Quarter </b>\",\n",
    "    animation_frame='Quarter',\n",
    "    color_continuous_scale=\"Viridis\"\n",
    ")\n",
    "\n",
    "Mapfig2 = px.choropleth(\n",
    "    Amount_of_State2,\n",
    "    geojson=\"https://gist.githubusercontent.com/jbrobst/56c13bbbf9d97d187fea01ca62ea5112/raw/e388c4cae20aa53cb5090210a42ebb9b765c0a36/india_states.geojson\",\n",
    "    featureidkey='properties.ST_NM',\n",
    "    locations='State',\n",
    "    color='Transaction_Amount',\n",
    "    title= \"<b>Geographical Representation of Transaction Values of Indian States by Year </b>\",\n",
    "    animation_frame='Year',\n",
    "    color_continuous_scale=\"Plasma\"\n",
    ")\n",
    "\n",
    "Mapfig3 = px.choropleth(\n",
    "    Count_of_State1,\n",
    "    geojson= \"https://gist.githubusercontent.com/jbrobst/56c13bbbf9d97d187fea01ca62ea5112/raw/e388c4cae20aa53cb5090210a42ebb9b765c0a36/india_states.geojson\",\n",
    "    featureidkey='properties.ST_NM',\n",
    "    locations='State',\n",
    "    color='Transaction_Count',\n",
    "    title= \"<b>Geographical Representation of Transaction Numbers of Indian States by Quarter </b>\",\n",
    "    animation_frame='Quarter',\n",
    "    color_continuous_scale=\"Inferno\"\n",
    ")\n",
    "\n",
    "Mapfig4 = px.choropleth(\n",
    "  Count_of_State2,\n",
    "    geojson=\"https://gist.githubusercontent.com/jbrobst/56c13bbbf9d97d187fea01ca62ea5112/raw/e388c4cae20aa53cb5090210a42ebb9b765c0a36/india_states.geojson\",\n",
    "    featureidkey='properties.ST_NM',\n",
    "    locations='State',\n",
    "    color='Transaction_Count',\n",
    "    title= \"<b>Geographical Representation of Transaction Numbers of Indian States by Year </b>\",\n",
    "    animation_frame='Year',\n",
    "    color_continuous_scale=\"twilight\"\n",
    ")\n",
    "\n",
    "# Providing the Transaction Values and Numbers of the District based on the Quarter and Year using the Map Graph with help of the Plotly Library\n",
    "# The Map Graph is made with the help of the GeoJSON file\n",
    "\n",
    "with open (\"E:/Capstone/Project 2/india_district_map.geojson\") as ind:\n",
    "    india = json.load(ind)\n",
    "\n",
    "Mapfig5 = px.choropleth(\n",
    "              Amount_of_District1,\n",
    "              locations=\"District\",\n",
    "              geojson=india,\n",
    "              featureidkey=\"properties.district\",\n",
    "              color='Transaction_Amount',\n",
    "              projection=\"mercator\" ,\n",
    "              color_continuous_scale=\"Reds\",\n",
    "              animation_frame=\"Quarter\",\n",
    "              title= \"<b>Geographical Representation of Transaction Values of Indian Districts by Quarter </b>\",\n",
    "              )\n",
    "\n",
    "Mapfig6 = px.choropleth(\n",
    "              Amount_of_District2,\n",
    "              locations=\"District\",\n",
    "              geojson=india,\n",
    "              featureidkey=\"properties.district\",\n",
    "              color='Transaction_Amount',\n",
    "              projection=\"mercator\" ,\n",
    "              color_continuous_scale=\"blues\",\n",
    "              animation_frame=\"Year\",\n",
    "              title= \"<b>Geographical Representation of Transaction Values of Indian Districts by Year </b>\",\n",
    "              )\n",
    "\n",
    "Mapfig7 = px.choropleth(\n",
    "              Count_of_District1,\n",
    "              locations=\"District\",\n",
    "              geojson=india,\n",
    "              featureidkey=\"properties.district\",\n",
    "              color='Transaction_Count',\n",
    "              projection=\"mercator\" ,\n",
    "              color_continuous_scale=\"greens\",\n",
    "              animation_frame=\"Quarter\",\n",
    "              title= \"<b>Geographical Representation of Transaction Numbers of Indian Districts by Quarter </b>\",\n",
    "              )\n",
    "\n",
    "Mapfig8 = px.choropleth(\n",
    "              Count_of_District2,\n",
    "              locations=\"District\",\n",
    "              geojson=india,\n",
    "              featureidkey=\"properties.district\",\n",
    "              color='Transaction_Count',\n",
    "              projection=\"mercator\" ,\n",
    "              color_continuous_scale=\"oranges\",\n",
    "              animation_frame=\"Year\",\n",
    "              title= \"<b>Geographical Representation of Transaction Numbers of Indian Districts by Year </b>\",\n",
    "              )\n",
    "\n",
    "\n",
    "map1 = Mapfig1.update_geos(fitbounds=\"locations\", visible=False)\n",
    "map2 = Mapfig2.update_geos(fitbounds=\"locations\", visible=False)\n",
    "map3 = Mapfig3.update_geos(fitbounds=\"locations\", visible=False)\n",
    "map4 = Mapfig4.update_geos(fitbounds=\"locations\", visible=False)\n",
    "map5 = Mapfig5.update_geos(fitbounds=\"locations\", visible=False)\n",
    "map6 = Mapfig6.update_geos(fitbounds=\"locations\", visible=False)\n",
    "map7 = Mapfig7.update_geos(fitbounds=\"locations\", visible=False)\n",
    "map8 = Mapfig8.update_geos(fitbounds=\"locations\", visible=False)\n",
    "\n",
    "#Displaying the Graphs in the Dashboards\n",
    "\n",
    "left_column,right_column = st.columns(2)\n",
    "\n",
    "left_column.plotly_chart(Pie1,use_container_width=True)\n",
    "right_column.plotly_chart(Pie2,use_container_width=True)\n",
    "left_column.plotly_chart(Pie3,use_container_width=True)\n",
    "right_column.plotly_chart(Pie4,use_container_width=True)\n",
    "\n",
    "left_column.plotly_chart(Bar_Quarter1,use_container_width=True)\n",
    "right_column.plotly_chart(Bar_Quarter2,use_container_width=True)\n",
    "left_column.plotly_chart(Bar_Year1,use_container_width=True)\n",
    "right_column.plotly_chart(Bar_Year2,use_container_width=True)\n",
    "\n",
    "left_column.plotly_chart(Line_Quarter1,use_container_width=True)\n",
    "right_column.plotly_chart(Line_Quarter2,use_container_width=True)\n",
    "left_column.plotly_chart(Line_Year1,use_container_width=True)\n",
    "right_column.plotly_chart(Line_Year2,use_container_width=True)\n",
    "\n",
    "left_column.plotly_chart(map1,use_container_width=True)\n",
    "right_column.plotly_chart(map3,use_container_width=True)\n",
    "left_column.plotly_chart(map2,use_container_width=True)\n",
    "right_column.plotly_chart(map4,use_container_width=True)\n",
    "left_column.plotly_chart(map5,use_container_width=True)\n",
    "right_column.plotly_chart(map7,use_container_width=True)\n",
    "left_column.plotly_chart(map6,use_container_width=True)\n",
    "right_column.plotly_chart(map8,use_container_width=True)\n",
    "\n",
    "#Hiding the Main Menu,Header and Footer in the Dashboard\n",
    "\n",
    "hide_style = \"\"\"<style> #MainMenu {visibility: hidden;} footer {visibility: hidden;} header {visibility: hidden;} </style>\"\"\"\n",
    "\n",
    "st.markdown(hide_style,unsafe_allow_html=True)"
   ]
  },
  {
   "attachments": {},
   "cell_type": "markdown",
   "metadata": {},
   "source": [
    "<B><I><U>RUNNING THE DASHBOARD<B><I><U>"
   ]
  },
  {
   "cell_type": "markdown",
   "metadata": {},
   "source": [
    "Running the above the python file using the below command."
   ]
  },
  {
   "cell_type": "code",
   "execution_count": 25,
   "metadata": {},
   "outputs": [
    {
     "name": "stdout",
     "output_type": "stream",
     "text": [
      "^C\n"
     ]
    }
   ],
   "source": [
    "!streamlit run Capstone_2.py"
   ]
  }
 ],
 "metadata": {
  "kernelspec": {
   "display_name": "Python 3",
   "language": "python",
   "name": "python3"
  },
  "language_info": {
   "codemirror_mode": {
    "name": "ipython",
    "version": 3
   },
   "file_extension": ".py",
   "mimetype": "text/x-python",
   "name": "python",
   "nbconvert_exporter": "python",
   "pygments_lexer": "ipython3",
   "version": "3.11.6"
  },
  "orig_nbformat": 4
 },
 "nbformat": 4,
 "nbformat_minor": 2
}
